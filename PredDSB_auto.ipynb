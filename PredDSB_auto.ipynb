{
 "cells": [
  {
   "cell_type": "code",
   "execution_count": null,
   "id": "fff3cf01-4f3e-4016-9a99-0132e67ac6a4",
   "metadata": {
    "scrolled": true,
    "tags": []
   },
   "outputs": [],
   "source": [
    "#conda installed\n",
    "library(\"TFBSTools\")\n",
    "library(\"pROC\")\n",
    "library(\"Matrix\")\n",
    "library(\"ranger\")\n",
    "library(\"hash\")\n",
    "\n",
    "#Need to install seperately via Bioconductor \n",
    "#BiocManager::install(version = \"3.16\")\n",
    "library(\"glmnet\")\n",
    "library(\"BSgenome.Hsapiens.UCSC.hg38\")\n",
    "library(\"BSgenome.Hsapiens.UCSC.hg38.masked\")\n",
    "library(\"JASPAR2020\")\n",
    "library(\"foreach\")\n",
    "library(\"doParallel\")"
   ]
  },
  {
   "cell_type": "code",
   "execution_count": null,
   "id": "7c6e234e-d0e9-4dad-9d5f-d289ec51b5f3",
   "metadata": {},
   "outputs": [],
   "source": [
    "source(\"/grid/home/azheng/dsb/PredDSB/script/miscFunctions.R\")"
   ]
  },
  {
   "cell_type": "code",
   "execution_count": null,
   "id": "1e51696f-9218-4fe1-bce9-b515c3d4fb6d",
   "metadata": {},
   "outputs": [],
   "source": [
    "Genome=BSgenome.Hsapiens.UCSC.hg38\n",
    "model=\"human\"\n",
    "SeqinfoGenome=seqinfo(BSgenome.Hsapiens.UCSC.hg38)\n",
    "Chr.V=c(paste0(\"chr\",1:22),\"chrX\")\n",
    "SeqInfo=SeqinfoGenome[Chr.V]"
   ]
  },
  {
   "cell_type": "markdown",
   "id": "3b42eaed",
   "metadata": {},
   "source": [
    "# Importing Data"
   ]
  },
  {
   "cell_type": "code",
   "execution_count": null,
   "id": "d844a3ee-ff36-4c74-aed1-1253122d8cd9",
   "metadata": {},
   "outputs": [],
   "source": [
    "# OPTION ------------------------------------------------------------\n",
    "#mode=\"Epigenome\" # To predict using Epigenomic and Chromatin data (ChIP-seq and DNase-seq data)\n",
    "#mode=\"EpigenomeForU2OS\" # To train a model using Epigenomic and Chromatin data that are available in both NHEK and U2OS cells, i.e.: DNA-seq, CTCF, H3K4me1/3, H3K9me3, H3K27ac, H3K27me3, H3K36me3 and POL2B. \n",
    "#mode=\"Motif\" # To predict using DNA motif data only. \n",
    "#mode=\"Motif+Shape\" # To predict using DNA motif data and DNA shape. \n",
    "\n",
    "mode=\"Epigenome\"\n",
    "\n",
    "# FILES ------------------------------------------------------------\n",
    "dire = \"/grid/home/azheng/dsb/PredDSB/\"\n",
    "data_dir = paste(dire,\"data/\",sep=\"\")\n",
    "output_dir = paste(\"/grid/home/azheng/dsb/\",\"genome_dsb/\",sep=\"\")\n",
    "\n",
    "# ctype = \"lung\"\n",
    "# annot_loc = paste(data_dir,\"Epigenome_lung/combined/\",sep=\"\")\n",
    "# fileAnnot=list.files(\"/grid/home/azheng/dsb/PredDSB/data/Epigenome_lung/combined\")\n",
    "# AnnotNames=as.vector(sapply(fileAnnot,function(x){strsplit(x,'.bed')[[1]][1]}))\n",
    "\n",
    "ctype = \"liver\"\n",
    "annot_loc = \"/grid/home/azheng/dsb/PredDSB/data/Epigenome_liver/combined/\"\n",
    "fileAnnot=list.files(\"/grid/home/azheng/dsb/PredDSB/data/Epigenome_liver/combined\")\n",
    "AnnotNames=as.vector(sapply(fileAnnot,function(x){strsplit(x,'.bed')[[1]][1]}))\n",
    "\n",
    "#ctype = \"NHEK\"\n",
    "# annot_loc = \"/grid/home/azheng/dsb/PredDSB/data/Epigenome_hg38/\"\n",
    "# fileAnnot=list.files(\"/grid/home/azheng/dsb/PredDSB/data/Epigenome_hg38\")\n",
    "# AnnotNames=as.vector(sapply(fileAnnot,function(x){strsplit(x,'_')[[1]][1]}))\n",
    "\n",
    "# annot_loc = \"/grid/home/azheng/dsb/PredDSB/data/h2ax/\"\n",
    "# fileAnnot=list.files(\"/grid/home/azheng/dsb/PredDSB/data/h2ax\")\n",
    "# AnnotNames=as.vector(sapply(fileAnnot,function(x){strsplit(x,'_')[[1]][1]}))\n",
    "\n",
    "# Import breaks\n",
    "fileBedBreaksPos=paste(data_dir,\"DSB/breakome_DSBcap_hg38_20kseq.bed\",sep=\"\")\n",
    "fileBedBreaksNeg=paste(data_dir,\"DSB/breakome_DSBcap_hg38_20kseq_neg.bed\",sep=\"\")"
   ]
  },
  {
   "cell_type": "code",
   "execution_count": null,
   "id": "7d7782d1-b9fb-4d50-a3fb-2f3f10f3bb96",
   "metadata": {},
   "outputs": [],
   "source": [
    "options(warn=-1)"
   ]
  },
  {
   "cell_type": "markdown",
   "id": "ddace77d",
   "metadata": {},
   "source": [
    "# Conversion of bed files to GR"
   ]
  },
  {
   "cell_type": "code",
   "execution_count": null,
   "id": "0c6095b5-8ce1-4298-9921-eeefde5079f0",
   "metadata": {
    "scrolled": true,
    "tags": []
   },
   "outputs": [],
   "source": [
    "# Import breaks\n",
    "dataBreaksPos.GR=sort(readGFBed(fileBedBreaksPos,SeqInfo))\n",
    "dataBreaksNeg.GR=sort(readGFBed(fileBedBreaksNeg,SeqInfo))\n",
    "dataBreaks.GR=c(dataBreaksPos.GR,dataBreaksNeg.GR)"
   ]
  },
  {
   "cell_type": "code",
   "execution_count": null,
   "id": "131d6f11",
   "metadata": {
    "scrolled": true
   },
   "outputs": [],
   "source": [
    "flist_bed=list.files(\"/grid/home/azheng/dsb/PredDSB/data/DSB/chrY.bed\")"
   ]
  },
  {
   "cell_type": "code",
   "execution_count": null,
   "id": "7a06cd50",
   "metadata": {},
   "outputs": [],
   "source": [
    "hash_fn = hash()\n",
    "for(i in flist_bed){\n",
    "    key_fn = \"chrY\"\n",
    "    hash_fn[[key_fn]] = i\n",
    "}\n",
    "hash_fn"
   ]
  },
  {
   "cell_type": "code",
   "execution_count": null,
   "id": "a6f7551a",
   "metadata": {
    "scrolled": true
   },
   "outputs": [],
   "source": [
    "cluster <- makeCluster(40) \n",
    "registerDoParallel(cluster)\n",
    "d <- foreach(hfn=names(hash_fn), .combine = 'rbind') %dopar% {\n",
    "    \n",
    "    source(\"/grid/home/azheng/dsb/PredDSB/script/miscFunctions.R\")\n",
    "    library(\"pROC\")\n",
    "    library(\"Matrix\")\n",
    "    library(\"ranger\")\n",
    "    library(\"glmnet\")\n",
    "    library(\"BSgenome.Hsapiens.UCSC.hg38\")\n",
    "    library(\"BSgenome.Hsapiens.UCSC.hg38.masked\")\n",
    "    \n",
    "    fileTestHR=hash_fn[[hfn]]\n",
    "    fileTestHR.GR=sort(readGFBed(fileTestHR,SeqInfo))\n",
    "    gr_df = as.data.frame(fileTestHR.GR)\n",
    "    # Import other data\n",
    "    GenomicFeatureList.GR=list()\n",
    "    for(i in 1:length(AnnotNames)){\n",
    "        GenomicFeatureList.GR[[i]] <- sort(unique(readGFBed(paste0(annot_loc,fileAnnot[i]),SeqInfo)))\n",
    "        print(paste0(AnnotNames[i],\" : \",length(GenomicFeatureList.GR[[i]])))\n",
    "    }\n",
    "    names(GenomicFeatureList.GR)=AnnotNames\n",
    "    #Train\n",
    "    bin.Mat=c(rep(1,length(dataBreaksPos.GR)),rep(0,length(dataBreaksNeg.GR)))\n",
    "    for(i in 1:length(GenomicFeatureList.GR)){\n",
    "        GRi=GenomicFeatureList.GR[[i]]\n",
    "        annotPosi=annotateLoci(dataBreaksPos.GR,GRi)\n",
    "        annotNegi=annotateLoci(dataBreaksNeg.GR,GRi)\n",
    "        annoti=c(annotPosi,annotNegi)\n",
    "        annoti[annoti>1]=1\n",
    "        bin.Mat=cbind(bin.Mat,annoti)\n",
    "        rm(annoti)\n",
    "        print(paste0(AnnotNames[i],\" annotated\"))\n",
    "    }\n",
    "    colnames(bin.Mat)=c(\"Breaks\",AnnotNames)\n",
    "    #Test\n",
    "    test.Mat=c(rep(1,length(fileTestHR.GR)/2),rep(0,length(fileTestHR.GR)/2))\n",
    "    for(i in 1:length(GenomicFeatureList.GR)){\n",
    "        GRi=GenomicFeatureList.GR[[i]]\n",
    "        annotPosi=annotateLoci(fileTestHR.GR,GRi)\n",
    "        annoti=c(annotPosi)\n",
    "        annoti[annoti>1]=1\n",
    "        test.Mat=cbind(test.Mat,annoti)\n",
    "        rm(annoti)\n",
    "        print(paste0(AnnotNames[i],\" annotated\"))\n",
    "    }\n",
    "    colnames(test.Mat)=c(\"Breaks\",AnnotNames)\n",
    "    \n",
    "    test_mat_df = as.data.frame(test.Mat) \n",
    "    gr_df$index <- 1:nrow(gr_df)\n",
    "    test_mat_df$index <- 1:nrow(test_mat_df)\n",
    "    new_df <- merge(gr_df, test_mat_df,\n",
    "                    by = 'index', all = TRUE) \n",
    "    rmna_newdf = na.omit(new_df)\n",
    "    \n",
    "    dataDSB=data.frame(bin.Mat)\n",
    "    testDSB=data.frame(test.Mat)\n",
    "    rownames(dataDSB)=1:nrow(dataDSB)\n",
    "    rownames(testDSB)=1:nrow(testDSB)\n",
    "    idxs=sample(1:nrow(dataDSB),3e4)\n",
    "    dataDSBlearn=dataDSB[sort(idxs),]\n",
    "    dataDSBtest=na.omit(testDSB)\n",
    "    \n",
    "    RFall=ranger(\"Breaks~.\",data=dataDSBlearn,importance=\"permutation\")\n",
    "    tempdf = predict(RFall,dataDSBtest)$predictions\n",
    "    tempdf = as.data.frame(tempdf)\n",
    "    tempdf$index2 <- 1:nrow(tempdf)\n",
    "    rmna_newdf$index2 <- 1:nrow(rmna_newdf) \n",
    "    res_df <- merge(tempdf, rmna_newdf,\n",
    "                    by = 'index2', all = TRUE) \n",
    "    fnam = paste(ctype, hfn, sep = \"_\")\n",
    "    fnam = paste(fnam, \"csv\", sep = \".\")\n",
    "    fnam = paste(output_dir, fnam, sep = \"\")\n",
    "    print(fnam)\n",
    "    write.csv(res_df, fnam)\n",
    "}"
   ]
  },
  {
   "cell_type": "code",
   "execution_count": null,
   "id": "5a9d3dcc",
   "metadata": {},
   "outputs": [],
   "source": [
    "stopCluster(cluster)"
   ]
  },
  {
   "cell_type": "markdown",
   "id": "782a71f8",
   "metadata": {},
   "source": [
    "## Prediction"
   ]
  },
  {
   "cell_type": "code",
   "execution_count": null,
   "id": "d776273e",
   "metadata": {
    "scrolled": true
   },
   "outputs": [],
   "source": [
    "# PREDICTIONS --------------------------------------------------------------------\n",
    "\n",
    "#dir.create(paste0(\"/grid/home/azheng/dsb/PredDSB/results/pred\",mode))\n",
    "\n",
    "# Training and testing sets\n",
    "dataDSB=data.frame(bin.Mat)\n",
    "rownames(dataDSB)=1:nrow(dataDSB)\n",
    "idxs=sample(1:nrow(dataDSB),3e4)\n",
    "dataDSBlearn=dataDSB[sort(idxs),]\n",
    "dataDSBtest=dataDSB[-idxs,]\n",
    "\n",
    "# Random Forests\n",
    "RFall=ranger(\"Breaks~.\",data=dataDSBlearn,importance=\"permutation\")\n",
    "rocRFall=roc(as.factor(dataDSBtest[,1]),predict(RFall,dataDSBtest)$predictions,ci=T)\n",
    "aucRF=pROC::auc(rocRFall)\n",
    "\n",
    "varimp=data.frame(Feature=names(RFall$variable.importance),VariableImportance=RFall$variable.importance)\n",
    "varimp=varimp[order(varimp[,2],decreasing=T),]\n",
    "file_varimp=paste0(\"/grid/home/azheng/dsb/PredDSB/results/pred\",mode,\"/varimpRF_\",mode,\".csv\")\n",
    "write.table(varimp,file=file_varimp,row.names=F,sep='\\t',quote=F)\n",
    "\n",
    "file_rocRF=paste0(\"/grid/home/azheng/dsb/PredDSB/results/pred\",mode,\"/rocRF_\",mode,\".pdf\")\n",
    "pdf(file_rocRF,4,4)\n",
    "plot(rocRFall,main=paste0(\"AUC: \",round(aucRF,4)))\n",
    "dev.off()\n",
    "\n",
    "if(mode==\"EpigenomeForU2OS\"){\n",
    " save(RFall,file=paste0(\"/grid/home/azheng/dsb/PredDSB/results/pred\",mode,\"/RF_\",mode,\"_10vars.RData\"))\n",
    "}"
   ]
  },
  {
   "cell_type": "code",
   "execution_count": null,
   "id": "687e93dd",
   "metadata": {},
   "outputs": [],
   "source": [
    "plot(rocRFall,main=paste0(\"AUC: \",round(aucRF,4)))"
   ]
  },
  {
   "cell_type": "code",
   "execution_count": null,
   "id": "4730d582-09dc-41fd-838e-c1c07cd0c468",
   "metadata": {
    "scrolled": true
   },
   "outputs": [],
   "source": [
    "# Lasso logistic regression\n",
    "CVLasso=cv.glmnet(as(dataDSBlearn[,-1],\"Matrix\"),dataDSBlearn[,1],family=\"binomial\",parallel=F)\n",
    "lambda=CVLasso$lambda.min # CVLasso$lambda.min or CVLasso$lambda.1se\n",
    "CVLassoError=CVLasso$cvm[which(CVLasso$lambda==lambda)]\n",
    "devLasso=deviance(CVLasso$glmnet.fit)[which(CVLasso$lambda==lambda)]\n",
    "coefLasso=CVLasso$glmnet.fit$beta[,which(CVLasso$lambda==lambda)]\n",
    "coefLassoMat=data.frame(Variable=names(coefLasso),Coefficient=round(coefLasso,5))\n",
    "write.table(coefLassoMat,file=paste0(\"/grid/home/azheng/dsb/PredDSB/results/pred\",mode,\"/coefLassoMat_\",mode,\".csv\"),row.names=F,sep='\\t',quote=F)\n",
    "\n",
    "rocLasso=roc(as.factor(dataDSBtest[,1]),predict(CVLasso,as(dataDSBtest[,-1],\"Matrix\")),ci=T)\n",
    "aucLasso=pROC::auc(rocLasso)\n",
    "\n",
    "file_rocLasso=paste0(\"/grid/home/azheng/dsb/PredDSB/results/pred\",mode,\"/rocLasso_\",mode,\".pdf\")\n",
    "pdf(file_rocLasso,4,4)\n",
    "plot(rocLasso,main=paste0(\"AUC: \",round(aucLasso,4)))\n",
    "dev.off()\n",
    "\n",
    "if(mode==\"EpigenomeForU2OS\"){\n",
    " save(CVLasso,file=paste0(\"/grid/home/azheng/dsb/PredDSB/results/pred\",mode,\"/Lasso_\",mode,\"_10vars.RData\"))\n",
    "}\n"
   ]
  },
  {
   "cell_type": "code",
   "execution_count": null,
   "id": "49a27f45",
   "metadata": {},
   "outputs": [],
   "source": [
    "plot(rocLasso,main=paste0(\"AUC: \",round(aucLasso,4)))"
   ]
  }
 ],
 "metadata": {
  "kernelspec": {
   "display_name": "R [conda env:.conda-dsbPred]",
   "language": "R",
   "name": "conda-env-.conda-dsbPred-r"
  },
  "language_info": {
   "codemirror_mode": "r",
   "file_extension": ".r",
   "mimetype": "text/x-r-source",
   "name": "R",
   "pygments_lexer": "r",
   "version": "4.2.2"
  }
 },
 "nbformat": 4,
 "nbformat_minor": 5
}
