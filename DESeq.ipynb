{
 "cells": [
  {
   "cell_type": "markdown",
   "id": "0908f65c",
   "metadata": {},
   "source": [
    "## Package loading"
   ]
  },
  {
   "cell_type": "code",
   "execution_count": 2,
   "id": "20d41d91",
   "metadata": {},
   "outputs": [],
   "source": [
    "package_loader <- function(package_list){\n",
    "    installed_packages <- packages %in% rownames(installed.packages())\n",
    "    if (any(installed_packages == FALSE)) {\n",
    "        warning(paste('Missing package:',packages[!installed_packages]))\n",
    "    }\n",
    "    suppressMessages(invisible(lapply(packages[installed_packages], library, character.only = TRUE)))\n",
    "}\n"
   ]
  },
  {
   "cell_type": "code",
   "execution_count": 3,
   "id": "c6160946",
   "metadata": {},
   "outputs": [],
   "source": [
    "packages <- c('ggplot2','tidyverse','reshape2','matrixStats','ggrepel','DESeq2','RColorBrewer','viridis','heatmaply','plotly','htmlwidgets','hash')\n",
    "package_loader(packages)"
   ]
  },
  {
   "cell_type": "markdown",
   "id": "af875b45",
   "metadata": {},
   "source": [
    "## Variables "
   ]
  },
  {
   "cell_type": "code",
   "execution_count": null,
   "id": "34029630",
   "metadata": {},
   "outputs": [],
   "source": [
    "file_name = \"HLB3055_rawCounts.txt\"\n",
    "samp_loc = 'HLB3055_samplesheet.csv'\n",
    "ref_group = c(\"7\",\"8\",\"9\")"
   ]
  },
  {
   "cell_type": "markdown",
   "id": "00b7e729",
   "metadata": {},
   "source": [
    "## Importing data"
   ]
  },
  {
   "cell_type": "code",
   "execution_count": 5,
   "id": "a858533a",
   "metadata": {
    "scrolled": true
   },
   "outputs": [],
   "source": [
    "data <- read.table(file = file_name, header = TRUE)\n",
    "norm_cts <- data.frame(data[,-1])\n",
    "rownames(norm_cts) <- data$Symbol"
   ]
  },
  {
   "cell_type": "code",
   "execution_count": 6,
   "id": "47b4df2b",
   "metadata": {},
   "outputs": [
    {
     "name": "stderr",
     "output_type": "stream",
     "text": [
      "\u001b[1mRows: \u001b[22m\u001b[34m9\u001b[39m \u001b[1mColumns: \u001b[22m\u001b[34m4\u001b[39m\n",
      "\u001b[36m──\u001b[39m \u001b[1mColumn specification\u001b[22m \u001b[36m────────────────────────────────────────────────────────\u001b[39m\n",
      "\u001b[1mDelimiter:\u001b[22m \",\"\n",
      "\u001b[31mchr\u001b[39m (3): Sample_Name, Calibration_Sample, Input_Control\n",
      "\u001b[32mdbl\u001b[39m (1): Group\n",
      "\n",
      "\u001b[36mℹ\u001b[39m Use \u001b[30m\u001b[47m\u001b[30m\u001b[47m`spec()`\u001b[47m\u001b[30m\u001b[49m\u001b[39m to retrieve the full column specification for this data.\n",
      "\u001b[36mℹ\u001b[39m Specify the column types or set \u001b[30m\u001b[47m\u001b[30m\u001b[47m`show_col_types = FALSE`\u001b[47m\u001b[30m\u001b[49m\u001b[39m to quiet this message.\n"
     ]
    }
   ],
   "source": [
    "samp_dat <- read_csv(samp_loc)\n",
    "rownames(samp_dat) <- samp_dat[['Sample_ID']] "
   ]
  },
  {
   "cell_type": "code",
   "execution_count": 7,
   "id": "36a5185a",
   "metadata": {},
   "outputs": [],
   "source": [
    "samp2 <- data.frame(samp_dat[,-1])\n",
    "rownames(samp2) <- samp_dat$Sample_Name\n",
    "samp2$Group <- as.character(samp2$Group)"
   ]
  },
  {
   "cell_type": "markdown",
   "id": "d7e03f6a",
   "metadata": {},
   "source": [
    "## Setting up DeSeq2"
   ]
  },
  {
   "cell_type": "code",
   "execution_count": 172,
   "id": "bc73f28a",
   "metadata": {
    "scrolled": true
   },
   "outputs": [
    {
     "name": "stderr",
     "output_type": "stream",
     "text": [
      "Warning message in DESeqDataSet(se, design = design, ignoreRank):\n",
      "“some variables in design formula are characters, converting to factors”\n",
      "estimating size factors\n",
      "\n",
      "estimating dispersions\n",
      "\n",
      "gene-wise dispersion estimates\n",
      "\n",
      "mean-dispersion relationship\n",
      "\n",
      "final dispersion estimates\n",
      "\n",
      "fitting model and testing\n",
      "\n",
      "Warning message in DESeqDataSet(se, design = design, ignoreRank):\n",
      "“some variables in design formula are characters, converting to factors”\n",
      "estimating size factors\n",
      "\n",
      "estimating dispersions\n",
      "\n",
      "gene-wise dispersion estimates\n",
      "\n",
      "mean-dispersion relationship\n",
      "\n",
      "final dispersion estimates\n",
      "\n",
      "fitting model and testing\n",
      "\n",
      "Warning message in DESeqDataSet(se, design = design, ignoreRank):\n",
      "“some variables in design formula are characters, converting to factors”\n",
      "estimating size factors\n",
      "\n",
      "estimating dispersions\n",
      "\n",
      "gene-wise dispersion estimates\n",
      "\n",
      "mean-dispersion relationship\n",
      "\n",
      "final dispersion estimates\n",
      "\n",
      "fitting model and testing\n",
      "\n"
     ]
    }
   ],
   "source": [
    "dds_list = list()\n",
    "for(i in ref_group) {\n",
    "    \n",
    "    dds <- DESeqDataSetFromMatrix(countData = norm_cts,\n",
    "                                  colData = samp2,\n",
    "                                  design= ~ Group)\n",
    "    dds$Group <- relevel(dds$Group, ref = i)\n",
    "    dds <- dds[ rowSums(counts(dds)) > 0, ]\n",
    "    \n",
    "    nam <- paste(\"dds\",i,sep=\"\")\n",
    "    assign(nam, DESeq(dds))\n",
    "#     lst[[length(lst)+1]] \n",
    "#     newlist <- list(oldlist, list(someobj))\n",
    "\n",
    "    dds_list= append(dds_list,nam)\n",
    "}"
   ]
  },
  {
   "cell_type": "markdown",
   "id": "6652ab61",
   "metadata": {},
   "source": [
    "## Need to initialize the coefficients list here"
   ]
  },
  {
   "cell_type": "code",
   "execution_count": 173,
   "id": "28f96bfd",
   "metadata": {},
   "outputs": [
    {
     "data": {
      "text/html": [
       "<ol>\n",
       "\t<li>'dds7'</li>\n",
       "\t<li>'dds8'</li>\n",
       "\t<li>'dds9'</li>\n",
       "</ol>\n"
      ],
      "text/latex": [
       "\\begin{enumerate}\n",
       "\\item 'dds7'\n",
       "\\item 'dds8'\n",
       "\\item 'dds9'\n",
       "\\end{enumerate}\n"
      ],
      "text/markdown": [
       "1. 'dds7'\n",
       "2. 'dds8'\n",
       "3. 'dds9'\n",
       "\n",
       "\n"
      ],
      "text/plain": [
       "[[1]]\n",
       "[1] \"dds7\"\n",
       "\n",
       "[[2]]\n",
       "[1] \"dds8\"\n",
       "\n",
       "[[3]]\n",
       "[1] \"dds9\"\n"
      ]
     },
     "metadata": {},
     "output_type": "display_data"
    }
   ],
   "source": [
    "dds_list"
   ]
  },
  {
   "cell_type": "code",
   "execution_count": null,
   "id": "038ab51f",
   "metadata": {},
   "outputs": [],
   "source": [
    "resultsNames(dds7)\n",
    "resultsNames(dds8)\n",
    "resultsNames(dds9)"
   ]
  },
  {
   "cell_type": "code",
   "execution_count": 175,
   "id": "10efff97",
   "metadata": {},
   "outputs": [],
   "source": [
    "subset_dict = list()\n",
    "subset_dict[['Group_8_vs_7']] <- c(1:6)\n",
    "subset_dict[['Group_9_vs_7']] <- c(1:3,7:9)\n",
    "subset_dict[['Group_7_vs_9']] <- c(1:3,7:9)\n",
    "subset_dict[['Group_8_vs_9']] <- c(4:9)\n",
    "subset_dict[['Group_7_vs_8']] <- c(1:6)\n",
    "subset_dict[['Group_9_vs_8']] <- c(4:9)"
   ]
  },
  {
   "cell_type": "code",
   "execution_count": 176,
   "id": "5e646672",
   "metadata": {},
   "outputs": [],
   "source": [
    "coef_dict = list()\n",
    "coef_dict[['Group_8_vs_7']] <- dds7\n",
    "coef_dict[['Group_9_vs_7']] <- dds7\n",
    "coef_dict[['Group_7_vs_9']] <- dds9\n",
    "coef_dict[['Group_8_vs_9']] <- dds9\n",
    "coef_dict[['Group_7_vs_8']] <- dds8\n",
    "coef_dict[['Group_9_vs_8']] <- dds8"
   ]
  },
  {
   "cell_type": "code",
   "execution_count": 177,
   "id": "33ef00c5",
   "metadata": {},
   "outputs": [],
   "source": [
    "comp_list = c('Group_8_vs_7','Group_9_vs_7','Group_7_vs_9','Group_8_vs_9','Group_7_vs_8','Group_9_vs_8')"
   ]
  },
  {
   "cell_type": "markdown",
   "id": "0b7bdf81",
   "metadata": {},
   "source": [
    "## Generating matrices for heatmaps"
   ]
  },
  {
   "cell_type": "code",
   "execution_count": 34,
   "id": "08a04d57",
   "metadata": {},
   "outputs": [],
   "source": [
    "library(repr)"
   ]
  },
  {
   "cell_type": "code",
   "execution_count": 38,
   "id": "3f8968bc",
   "metadata": {},
   "outputs": [],
   "source": [
    "p1 <- heatmaply(scale(mm), k_col = 2) \n",
    "htmlwidgets::saveWidget(as_widget(p1),\"deheatmaply_all.html\")"
   ]
  },
  {
   "cell_type": "markdown",
   "id": "8e3b3762",
   "metadata": {},
   "source": [
    "# All genes heatmap"
   ]
  },
  {
   "cell_type": "code",
   "execution_count": 140,
   "id": "1aa2e2e5",
   "metadata": {},
   "outputs": [],
   "source": [
    "cal_z_score <- function(x){\n",
    "  (x - mean(x)) / sd(x)\n",
    "}\n",
    "\n",
    "mat <- counts(coef_dict[[i]], normalized = T)[rownames(comp),]\n",
    "    matz <- t(apply(mat, 1, scale))\n",
    "    colnames(matz)<- rownames(samp2)\n",
    "    matz <- na.omit(matz)"
   ]
  },
  {
   "cell_type": "code",
   "execution_count": null,
   "id": "5651b0b7",
   "metadata": {},
   "outputs": [],
   "source": [
    "coul <- colorRampPalette(brewer.pal(8, \"PiYG\"))(25)\n",
    "options(repr.plot.width=10, repr.plot.height=15)\n",
    "heatmap(matz, scale=\"column\", col = coul)"
   ]
  },
  {
   "cell_type": "code",
   "execution_count": 226,
   "id": "987e9a93",
   "metadata": {},
   "outputs": [
    {
     "ename": "ERROR",
     "evalue": "Error in png(tf, width, height, \"in\", pointsize, bg, res, antialias = antialias): unable to start device 'png'\n",
     "output_type": "error",
     "traceback": [
      "Error in png(tf, width, height, \"in\", pointsize, bg, res, antialias = antialias): unable to start device 'png'\nTraceback:\n"
     ]
    },
    {
     "data": {
      "text/plain": [
       "plot without title"
      ]
     },
     "metadata": {
      "image/png": {
       "height": 24000,
       "width": 600
      }
     },
     "output_type": "display_data"
    }
   ],
   "source": [
    "options(repr.plot.width=10, repr.plot.height=400)\n",
    "pheatmap(matz,\n",
    "#          annotation_row = my_gene_col,\n",
    "#          annotation_col = my_sample_col,\n",
    "         cutree_rows = 2,\n",
    "         cutree_cols = 2,\n",
    "         main = \"All genes\")"
   ]
  },
  {
   "cell_type": "markdown",
   "id": "3486709f",
   "metadata": {},
   "source": [
    "# Subsetting genes by top DE"
   ]
  },
  {
   "cell_type": "code",
   "execution_count": 131,
   "id": "76d66dd0",
   "metadata": {},
   "outputs": [],
   "source": [
    "i = 'Group_8_vs_9'"
   ]
  },
  {
   "cell_type": "code",
   "execution_count": 197,
   "id": "50c7c4b1",
   "metadata": {},
   "outputs": [],
   "source": [
    "mat <- counts(coef_dict[[i]], normalized = T)[rownames(comp),]\n",
    "    matz <- t(apply(mat, 1, scale))\n",
    "    colnames(matz)<- rownames(samp2)\n",
    "    matz <- na.omit(matz)\n",
    "    names <- rownames(matz)\n",
    "    matz <- cbind(names,matz)\n",
    "    \n",
    "    matzdf <- as.data.frame(matz)\n",
    "    matzf <- matzdf %>%\n",
    "        filter(names %in% noiglist)\n",
    "    matzf <- matzf[-1]\n",
    "    matzf <- mutate_all(matzf, function(x) as.numeric(as.character(x)))\n",
    "                        \n",
    "    mm <- as.matrix(matzf)\n",
    "    mm <- na.omit(mm)\n"
   ]
  },
  {
   "cell_type": "code",
   "execution_count": 107,
   "id": "0a248e24",
   "metadata": {},
   "outputs": [],
   "source": [
    "immune_tab <- 'InnateDB_genes.csv'"
   ]
  },
  {
   "cell_type": "code",
   "execution_count": 108,
   "id": "867b69a6",
   "metadata": {},
   "outputs": [
    {
     "name": "stderr",
     "output_type": "stream",
     "text": [
      "\u001b[1mRows: \u001b[22m\u001b[34m4723\u001b[39m \u001b[1mColumns: \u001b[22m\u001b[34m26\u001b[39m\n",
      "\u001b[36m──\u001b[39m \u001b[1mColumn specification\u001b[22m \u001b[36m────────────────────────────────────────────────────────\u001b[39m\n",
      "\u001b[1mDelimiter:\u001b[22m \",\"\n",
      "\u001b[31mchr\u001b[39m  (16): species, ensembl, name, fullname, synonym, signature, chromName, ...\n",
      "\u001b[32mdbl\u001b[39m   (7): id, taxonId, chromStart, chromEnd, chromStrand, nrIntxsValidated,...\n",
      "\u001b[33mlgl\u001b[39m   (1): humanOrthologs\n",
      "\u001b[34mdate\u001b[39m  (1): lastModified\n",
      "\n",
      "\u001b[36mℹ\u001b[39m Use \u001b[30m\u001b[47m\u001b[30m\u001b[47m`spec()`\u001b[47m\u001b[30m\u001b[49m\u001b[39m to retrieve the full column specification for this data.\n",
      "\u001b[36mℹ\u001b[39m Specify the column types or set \u001b[30m\u001b[47m\u001b[30m\u001b[47m`show_col_types = FALSE`\u001b[47m\u001b[30m\u001b[49m\u001b[39m to quiet this message.\n"
     ]
    }
   ],
   "source": [
    "immune_df <- read_csv(immune_tab)\n"
   ]
  },
  {
   "cell_type": "code",
   "execution_count": 116,
   "id": "4e2f6b9e",
   "metadata": {},
   "outputs": [],
   "source": [
    "library(stringr)"
   ]
  },
  {
   "cell_type": "code",
   "execution_count": null,
   "id": "7d09b69d",
   "metadata": {},
   "outputs": [],
   "source": [
    "ilist <- list()\n",
    "l <- as.list(immune_df$name)\n",
    "\n",
    "for (i in l){\n",
    "    new_element <- str_to_title(i)\n",
    "    ilist[[length(ilist)+1]]<-new_element}\n"
   ]
  },
  {
   "cell_type": "code",
   "execution_count": null,
   "id": "5253ff74",
   "metadata": {},
   "outputs": [],
   "source": [
    "newlist <- biglist[!biglist %in% ilist]"
   ]
  },
  {
   "cell_type": "markdown",
   "id": "6e524bf8",
   "metadata": {},
   "source": [
    "# DE genes from 9v7 only"
   ]
  },
  {
   "cell_type": "code",
   "execution_count": null,
   "id": "6177aec9",
   "metadata": {},
   "outputs": [],
   "source": [
    "coul <- colorRampPalette(brewer.pal(8, \"PiYG\"))(25)\n",
    "options(repr.plot.width=10, repr.plot.height=15)\n",
    "heatmap(mm, scale=\"column\", col = coul)\n"
   ]
  },
  {
   "cell_type": "markdown",
   "id": "07d3b556",
   "metadata": {},
   "source": [
    "# Removed immune related genes"
   ]
  },
  {
   "cell_type": "code",
   "execution_count": 139,
   "id": "6f03ca1f",
   "metadata": {},
   "outputs": [],
   "source": [
    "library(pheatmap)"
   ]
  },
  {
   "cell_type": "code",
   "execution_count": null,
   "id": "e59c9a84",
   "metadata": {},
   "outputs": [],
   "source": [
    "my_hclust_gene <- hclust(dist(matz), method = \"complete\")\n",
    " \n",
    "# install if necessary\n",
    "#install.packages(\"dendextend\")\n",
    " \n",
    "# load package\n",
    "#library(dendextend)"
   ]
  },
  {
   "cell_type": "code",
   "execution_count": 213,
   "id": "8ddc2b1a",
   "metadata": {},
   "outputs": [],
   "source": [
    "my_gene_col <- cutree(tree = as.dendrogram(my_hclust_gene), k = 2)"
   ]
  },
  {
   "cell_type": "code",
   "execution_count": 214,
   "id": "8cc22282",
   "metadata": {},
   "outputs": [],
   "source": [
    "my_gene_col <- data.frame(cluster = ifelse(test = my_gene_col == 1, yes = \"cluster 1\", no = \"cluster 2\"))"
   ]
  },
  {
   "cell_type": "code",
   "execution_count": 222,
   "id": "ba4405bb",
   "metadata": {},
   "outputs": [],
   "source": [
    "my_sample_col <- data.frame(sample = rep(c(\"knockout vehicle\", \"treated\",\"wildtype\"), c(3,3,3)))\n",
    "row.names(my_sample_col) <- colnames(matz)"
   ]
  },
  {
   "cell_type": "code",
   "execution_count": null,
   "id": "9f514466",
   "metadata": {},
   "outputs": [],
   "source": [
    "options(repr.plot.width=10, repr.plot.height=50)\n",
    "pheatmap(mm,\n",
    "         annotation_row = my_gene_col,\n",
    "         annotation_col = my_sample_col,\n",
    "         cutree_rows = 2,\n",
    "         cutree_cols = 2,\n",
    "         main = \"9v7 DE gene filtered\")"
   ]
  },
  {
   "cell_type": "code",
   "execution_count": null,
   "id": "2cee16ca",
   "metadata": {},
   "outputs": [],
   "source": [
    "pheatmap(mm,\n",
    "         annotation_row = my_gene_col,\n",
    "         cutree_rows = 2,\n",
    "         cutree_cols = 2)"
   ]
  },
  {
   "cell_type": "code",
   "execution_count": null,
   "id": "57dc6b1e",
   "metadata": {
    "scrolled": true,
    "tags": []
   },
   "outputs": [],
   "source": [
    "for (i in comp_list) {\n",
    "    comp <- lfcShrink(coef_dict[[i]], coef=i, type=\"apeglm\")\n",
    "    comp <-as.data.frame(comp)\n",
    "    filt_comp <- comp %>%\n",
    "        filter((log2FoldChange >= 1.5 | log2FoldChange <= -1.5) & padj <= 0.05)\n",
    "    \n",
    "    mat <- counts(coef_dict[[i]], normalized = T)[rownames(comp),]\n",
    "    matz <- t(apply(mat, 1, scale))\n",
    "    colnames(matz)<- rownames(samp2)\n",
    "    matz <- na.omit(matz)\n",
    "    names <- rownames(matz)\n",
    "    matz <- cbind(names,matz)\n",
    "    \n",
    "    matzdf <- as.data.frame(matz)\n",
    "    matzf <- matzdf %>%\n",
    "        filter(names %in% row.names(filt_comp))\n",
    "    matzf <- matzf[-1]\n",
    "    matzf <- mutate_all(matzf, function(x) as.numeric(as.character(x)))\n",
    "                        \n",
    "    mm <- as.matrix(matzf)\n",
    "    mm <- na.omit(mm)\n",
    "    mmcomp <- mm[,c(subset_dict[[i]])]\n",
    "    \n",
    "    p <- plot_ly(x=colnames(mmcomp), y=rownames(mmcomp), z = mmcomp, type = \"heatmap\")\n",
    "    htmlwidgets::saveWidget(as_widget(p), paste(\"deplot\",i,\".html\",sep = \"\"))\n",
    "                        \n",
    "    p1 <- heatmaply(scale(mmcomp), k_col = 2) \n",
    "    htmlwidgets::saveWidget(as_widget(p1), paste(\"deheatmaply\",i,\".html\",sep = \"\"))\n",
    "                        \n",
    "    volcanocomp <- comp \n",
    "    volcanocomp$diffexpressed <- \"NO\"\n",
    "    \n",
    "    volcanocomp$diffexpressed[volcanocomp$log2FoldChange >= 1.5 & volcanocomp$padj < 0.05] <- \"UP\"\n",
    "    volcanocomp$diffexpressed[volcanocomp$log2FoldChange <= -1.5 & volcanocomp$padj < 0.05] <- \"DOWN\"\n",
    "    volcanocomp <- na.omit(volcanocomp)\n",
    "                        \n",
    "    volcanocomp$delabel <- NA\n",
    "    p2 <- ggplot(data=volcanocomp, aes(x=log2FoldChange, y=-log10(padj), col=diffexpressed)) +\n",
    "            geom_point() + \n",
    "            theme_minimal() +\n",
    "            scale_color_manual(values=c(\"blue\", \"black\", \"red\")) +\n",
    "            geom_vline(xintercept=c(-1.5, 1.5), col=\"red\") +\n",
    "            geom_hline(yintercept=-log10(0.05), col=\"red\") + \n",
    "            ggtitle(paste(\"Group\",i,\" Volcano Plot\",sep = \"\"))\n",
    "    print(p2)\n",
    "    \n",
    "    ug <- paste(\"upgenes_\", i, sep = \"\")\n",
    "    dg <- paste(\"downgenes_\", i, sep = \"\")\n",
    "    assign(ug,volcanocomp[volcanocomp$diffexpressed == 'UP',])\n",
    "    assign(dg,volcanocomp[volcanocomp$diffexpressed == 'DOWN',])\n",
    "        \n",
    "}"
   ]
  },
  {
   "cell_type": "markdown",
   "id": "fc859afc",
   "metadata": {},
   "source": [
    "## Upregulated and Downregulated genes"
   ]
  },
  {
   "cell_type": "code",
   "execution_count": 179,
   "id": "e1b743bc",
   "metadata": {},
   "outputs": [
    {
     "name": "stdout",
     "output_type": "stream",
     "text": [
      "[1] \"upgenes_Group_8_vs_7\"\n",
      "[1] \"downgenes_Group_8_vs_7\"\n",
      "[1] \"upgenes_Group_9_vs_7\"\n",
      "[1] \"downgenes_Group_9_vs_7\"\n",
      "[1] \"upgenes_Group_7_vs_9\"\n",
      "[1] \"downgenes_Group_7_vs_9\"\n",
      "[1] \"upgenes_Group_8_vs_9\"\n",
      "[1] \"downgenes_Group_8_vs_9\"\n",
      "[1] \"upgenes_Group_7_vs_8\"\n",
      "[1] \"downgenes_Group_7_vs_8\"\n",
      "[1] \"upgenes_Group_9_vs_8\"\n",
      "[1] \"downgenes_Group_9_vs_8\"\n"
     ]
    }
   ],
   "source": [
    "for (i in comp_list){\n",
    "    print(paste(\"upgenes_\", i, sep = \"\"))\n",
    "    print(paste(\"downgenes_\", i, sep = \"\"))\n",
    "}"
   ]
  }
 ],
 "metadata": {
  "kernelspec": {
   "display_name": "R 3.3",
   "language": "R",
   "name": "ir33"
  },
  "language_info": {
   "codemirror_mode": "r",
   "file_extension": ".r",
   "mimetype": "text/x-r-source",
   "name": "R",
   "pygments_lexer": "r",
   "version": "4.0.3"
  }
 },
 "nbformat": 4,
 "nbformat_minor": 5
}
